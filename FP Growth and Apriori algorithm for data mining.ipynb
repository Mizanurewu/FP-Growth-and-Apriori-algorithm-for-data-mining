{
 "cells": [
  {
   "cell_type": "code",
   "execution_count": 25,
   "id": "d3ec36e8",
   "metadata": {},
   "outputs": [],
   "source": [
    "import numpy as np\n",
    "import time\n",
    "import matplotlib.pyplot as plt\n",
    "import pandas as pd\n",
    "from mlxtend.frequent_patterns import apriori, association_rules,fpgrowth\n",
    "from mlxtend.preprocessing import TransactionEncoder\n",
    "import csv"
   ]
  },
  {
   "cell_type": "code",
   "execution_count": 26,
   "id": "488c488d",
   "metadata": {},
   "outputs": [],
   "source": [
    "with open('chess.dat', 'r') as file:\n",
    "    dataset = csv.reader(file, delimiter=' ')\n",
    "    for row in dataset:\n",
    "        temp=[element for element in row]\n",
    "        temp= temp[:-1]\n",
    "        items.append(temp)"
   ]
  },
  {
   "cell_type": "code",
   "execution_count": 27,
   "id": "de0c6616",
   "metadata": {},
   "outputs": [],
   "source": [
    "apc_times = list()\n",
    "apc_elements = list()\n",
    "minsupport =.6\n"
   ]
  },
  {
   "cell_type": "code",
   "execution_count": 28,
   "id": "77f291e1",
   "metadata": {},
   "outputs": [
    {
     "name": "stdout",
     "output_type": "stream",
     "text": [
      "         support                                           itemsets\n",
      "0       0.666145                                               (11)\n",
      "1       0.633917                                               (15)\n",
      "2       0.782228                                               (17)\n",
      "3       0.619524                                               (19)\n",
      "4       0.696183                                               (21)\n",
      "...          ...                                                ...\n",
      "254939  0.600125  (56, 29, 52, 40, 62, 36, 9, 5, 60, 58, 48, 34,...\n",
      "254940  0.607009  (56, 29, 52, 7, 40, 62, 36, 9, 60, 58, 48, 34,...\n",
      "254941  0.601377  (56, 29, 52, 7, 40, 62, 36, 9, 5, 60, 58, 34, ...\n",
      "254942  0.611702  (56, 29, 42, 52, 7, 40, 62, 36, 5, 60, 58, 48,...\n",
      "254943  0.635795  (56, 29, 52, 7, 40, 62, 36, 9, 5, 60, 58, 48, ...\n",
      "\n",
      "[254944 rows x 2 columns]\n",
      "Runtime of the program is 253.84375\n",
      "       support                                  itemsets\n",
      "0     0.894869                                      (25)\n",
      "1     0.995307                                      (29)\n",
      "2     0.888298                                       (3)\n",
      "3     0.951189                                      (34)\n",
      "4     0.969650                                      (36)\n",
      "...        ...                                       ...\n",
      "8222  0.806320       (52, 7, 40, 62, 36, 60, 58, 48, 66)\n",
      "8223  0.803191  (29, 52, 40, 62, 36, 60, 58, 48, 34, 66)\n",
      "8224  0.804130   (29, 52, 7, 40, 36, 60, 58, 48, 34, 66)\n",
      "8225  0.801627   (56, 29, 52, 7, 40, 62, 36, 60, 58, 48)\n",
      "8226  0.805069   (29, 52, 7, 40, 62, 36, 60, 58, 48, 66)\n",
      "\n",
      "[8227 rows x 2 columns]\n",
      "Runtime of the program is 2.21875\n",
      "Empty DataFrame\n",
      "Columns: [support, itemsets]\n",
      "Index: []\n",
      "Runtime of the program is 0.125\n"
     ]
    }
   ],
   "source": [
    "while minsupport <=1:\n",
    "    start = time.process_time()\n",
    "    te = TransactionEncoder()\n",
    "    te_ary = te.fit(items).transform(items)\n",
    "    df = pd.DataFrame(te_ary, columns=te.columns_)\n",
    "    result= apriori(df, min_support= minsupport, use_colnames=True)\n",
    "    apc_elements.append(minsupport) \n",
    "    end = time.process_time()\n",
    "    apc_times.append(end-start)\n",
    "    print (result)\n",
    "    print(f\"Runtime of the program is {end - start}\")\n",
    "    minsupport+=.2"
   ]
  },
  {
   "cell_type": "code",
   "execution_count": 12,
   "id": "a1fc17c8",
   "metadata": {},
   "outputs": [
    {
     "data": {
      "image/png": "[encoded data removed]",
      "text/plain": [
       "<Figure size 432x288 with 1 Axes>"
      ]
     },
     "metadata": {
      "needs_background": "light"
     },
     "output_type": "display_data"
    }
   ],
   "source": [
    "plt.xlabel('Minimum Threshold')\n",
    "plt.ylabel('Time Complexity')\n",
    "plt.plot(apc_elements, apc_times, label ='Apriori')\n",
    "#plt.grid()\n",
    "plt.legend()\n",
    "#plt.savefig('AprioriChess.pdf',bbox_inches='tight')\n",
    "plt.show()"
   ]
  },
  {
   "cell_type": "code",
   "execution_count": 13,
   "id": "d354bfdf",
   "metadata": {},
   "outputs": [],
   "source": [
    "items=[]\n",
    "with open('chess.dat', 'r') as file:\n",
    "    dataset = csv.reader(file, delimiter=' ')\n",
    "    for row in dataset:\n",
    "        temp=[element for element in row]\n",
    "        items.append(temp)"
   ]
  },
  {
   "cell_type": "code",
   "execution_count": 14,
   "id": "aefab41b",
   "metadata": {},
   "outputs": [],
   "source": [
    "fpc_times = list()\n",
    "fpc_elements = list()\n",
    "minsupport = .6\n"
   ]
  },
  {
   "cell_type": "code",
   "execution_count": 15,
   "id": "584ae87d",
   "metadata": {},
   "outputs": [
    {
     "name": "stdout",
     "output_type": "stream",
     "text": [
      "         support               itemsets\n",
      "0       1.000000                     ()\n",
      "1       0.999687                   (58)\n",
      "2       0.996558                   (52)\n",
      "3       0.995307                   (29)\n",
      "4       0.991865                   (40)\n",
      "...          ...                    ...\n",
      "509884  0.600751     (, 50, 62, 40, 58)\n",
      "509885  0.600751      (, 50, 7, 62, 58)\n",
      "509886  0.600751      (, 50, 7, 40, 62)\n",
      "509887  0.600751    (50, 7, 62, 40, 58)\n",
      "509888  0.600751  (, 50, 7, 40, 62, 58)\n",
      "\n",
      "[509889 rows x 2 columns]\n",
      "Runtime of the program is 15.609375\n",
      "        support                itemsets\n",
      "0      1.000000                      ()\n",
      "1      0.999687                    (58)\n",
      "2      0.996558                    (52)\n",
      "3      0.995307                    (29)\n",
      "4      0.991865                    (40)\n",
      "...         ...                     ...\n",
      "16450  0.800688    (29, 44, 52, 40, 58)\n",
      "16451  0.800688  (, 29, 44, 52, 40, 58)\n",
      "16452  0.802566              (, 60, 44)\n",
      "16453  0.802253            (60, 58, 44)\n",
      "16454  0.802253          (, 60, 58, 44)\n",
      "\n",
      "[16455 rows x 2 columns]\n",
      "Runtime of the program is 0.765625\n",
      "   support itemsets\n",
      "0      1.0       ()\n",
      "Runtime of the program is 0.109375\n"
     ]
    }
   ],
   "source": [
    "while minsupport <=1:\n",
    "    start = time.process_time()\n",
    "    te = TransactionEncoder()\n",
    "    te_ary = te.fit(items).transform(items)\n",
    "    df = pd.DataFrame(te_ary, columns=te.columns_)\n",
    "    result= fpgrowth(df, min_support= minsupport, use_colnames=True)\n",
    "    fpc_elements.append(minsupport)  \n",
    "    end = time.process_time()\n",
    "    fpc_times.append(end-start)\n",
    "    print (result)\n",
    "    print(f\"Runtime of the program is {end - start}\")\n",
    "    minsupport+=.2"
   ]
  },
  {
   "cell_type": "code",
   "execution_count": 16,
   "id": "8670214d",
   "metadata": {},
   "outputs": [
    {
     "data": {
      "image/png": "[encoded data removed]",
      "text/plain": [
       "<Figure size 432x288 with 1 Axes>"
      ]
     },
     "metadata": {
      "needs_background": "light"
     },
     "output_type": "display_data"
    }
   ],
   "source": [
    "plt.xlabel('Minimum Threshold')\n",
    "plt.ylabel('Time Complexity')\n",
    "plt.plot(fpc_elements, fpc_times, label ='Fp-Growth')\n",
    "plt.grid()\n",
    "plt.legend()\n",
    "plt.savefig('FpgrowthChess.pdf',bbox_inches='tight')\n",
    "plt.show()"
   ]
  },
  {
   "cell_type": "code",
   "execution_count": 17,
   "id": "5f29dba2",
   "metadata": {},
   "outputs": [
    {
     "data": {
      "image/png": "[encoded data removed]",
      "text/plain": [
       "<Figure size 432x288 with 1 Axes>"
      ]
     },
     "metadata": {
      "needs_background": "light"
     },
     "output_type": "display_data"
    }
   ],
   "source": [
    "plt.xlabel('Minimum Threshold')\n",
    "plt.ylabel('Time Complexity')\n",
    "plt.plot(apc_elements, apc_times, label ='Apriori')\n",
    "plt.plot(fpc_elements, fpc_times, label ='Fp-Growth')\n",
    "plt.grid()\n",
    "plt.legend()\n",
    "plt.savefig('chesscombine.pdf',bbox_inches='tight')\n",
    "plt.show()"
   ]
  },
  {
   "cell_type": "code",
   "execution_count": 29,
   "id": "e39c6db3",
   "metadata": {},
   "outputs": [
    {
     "ename": "ValueError",
     "evalue": "Shape of passed values is (3, 2), indices imply (8, 2)",
     "output_type": "error",
     "traceback": [
      "\u001b[1;31m---------------------------------------------------------------------------\u001b[0m",
      "\u001b[1;31mValueError\u001b[0m                                Traceback (most recent call last)",
      "\u001b[1;32mF:\\Anaconda3\\lib\\site-packages\\pandas\\core\\internals\\managers.py\u001b[0m in \u001b[0;36mcreate_block_manager_from_arrays\u001b[1;34m(arrays, names, axes)\u001b[0m\n\u001b[0;32m   1701\u001b[0m         \u001b[0mblocks\u001b[0m \u001b[1;33m=\u001b[0m \u001b[0m_form_blocks\u001b[0m\u001b[1;33m(\u001b[0m\u001b[0marrays\u001b[0m\u001b[1;33m,\u001b[0m \u001b[0mnames\u001b[0m\u001b[1;33m,\u001b[0m \u001b[0maxes\u001b[0m\u001b[1;33m)\u001b[0m\u001b[1;33m\u001b[0m\u001b[1;33m\u001b[0m\u001b[0m\n\u001b[1;32m-> 1702\u001b[1;33m         \u001b[0mmgr\u001b[0m \u001b[1;33m=\u001b[0m \u001b[0mBlockManager\u001b[0m\u001b[1;33m(\u001b[0m\u001b[0mblocks\u001b[0m\u001b[1;33m,\u001b[0m \u001b[0maxes\u001b[0m\u001b[1;33m)\u001b[0m\u001b[1;33m\u001b[0m\u001b[1;33m\u001b[0m\u001b[0m\n\u001b[0m\u001b[0;32m   1703\u001b[0m         \u001b[0mmgr\u001b[0m\u001b[1;33m.\u001b[0m\u001b[0m_consolidate_inplace\u001b[0m\u001b[1;33m(\u001b[0m\u001b[1;33m)\u001b[0m\u001b[1;33m\u001b[0m\u001b[1;33m\u001b[0m\u001b[0m\n",
      "\u001b[1;32mF:\\Anaconda3\\lib\\site-packages\\pandas\\core\\internals\\managers.py\u001b[0m in \u001b[0;36m__init__\u001b[1;34m(self, blocks, axes, do_integrity_check)\u001b[0m\n\u001b[0;32m    142\u001b[0m         \u001b[1;32mif\u001b[0m \u001b[0mdo_integrity_check\u001b[0m\u001b[1;33m:\u001b[0m\u001b[1;33m\u001b[0m\u001b[1;33m\u001b[0m\u001b[0m\n\u001b[1;32m--> 143\u001b[1;33m             \u001b[0mself\u001b[0m\u001b[1;33m.\u001b[0m\u001b[0m_verify_integrity\u001b[0m\u001b[1;33m(\u001b[0m\u001b[1;33m)\u001b[0m\u001b[1;33m\u001b[0m\u001b[1;33m\u001b[0m\u001b[0m\n\u001b[0m\u001b[0;32m    144\u001b[0m \u001b[1;33m\u001b[0m\u001b[0m\n",
      "\u001b[1;32mF:\\Anaconda3\\lib\\site-packages\\pandas\\core\\internals\\managers.py\u001b[0m in \u001b[0;36m_verify_integrity\u001b[1;34m(self)\u001b[0m\n\u001b[0;32m    322\u001b[0m             \u001b[1;32mif\u001b[0m \u001b[0mblock\u001b[0m\u001b[1;33m.\u001b[0m\u001b[0mshape\u001b[0m\u001b[1;33m[\u001b[0m\u001b[1;36m1\u001b[0m\u001b[1;33m:\u001b[0m\u001b[1;33m]\u001b[0m \u001b[1;33m!=\u001b[0m \u001b[0mmgr_shape\u001b[0m\u001b[1;33m[\u001b[0m\u001b[1;36m1\u001b[0m\u001b[1;33m:\u001b[0m\u001b[1;33m]\u001b[0m\u001b[1;33m:\u001b[0m\u001b[1;33m\u001b[0m\u001b[1;33m\u001b[0m\u001b[0m\n\u001b[1;32m--> 323\u001b[1;33m                 \u001b[1;32mraise\u001b[0m \u001b[0mconstruction_error\u001b[0m\u001b[1;33m(\u001b[0m\u001b[0mtot_items\u001b[0m\u001b[1;33m,\u001b[0m \u001b[0mblock\u001b[0m\u001b[1;33m.\u001b[0m\u001b[0mshape\u001b[0m\u001b[1;33m[\u001b[0m\u001b[1;36m1\u001b[0m\u001b[1;33m:\u001b[0m\u001b[1;33m]\u001b[0m\u001b[1;33m,\u001b[0m \u001b[0mself\u001b[0m\u001b[1;33m.\u001b[0m\u001b[0maxes\u001b[0m\u001b[1;33m)\u001b[0m\u001b[1;33m\u001b[0m\u001b[1;33m\u001b[0m\u001b[0m\n\u001b[0m\u001b[0;32m    324\u001b[0m         \u001b[1;32mif\u001b[0m \u001b[0mlen\u001b[0m\u001b[1;33m(\u001b[0m\u001b[0mself\u001b[0m\u001b[1;33m.\u001b[0m\u001b[0mitems\u001b[0m\u001b[1;33m)\u001b[0m \u001b[1;33m!=\u001b[0m \u001b[0mtot_items\u001b[0m\u001b[1;33m:\u001b[0m\u001b[1;33m\u001b[0m\u001b[1;33m\u001b[0m\u001b[0m\n",
      "\u001b[1;31mValueError\u001b[0m: Shape of passed values is (3, 2), indices imply (8, 2)",
      "\nDuring handling of the above exception, another exception occurred:\n",
      "\u001b[1;31mValueError\u001b[0m                                Traceback (most recent call last)",
      "\u001b[1;32m<ipython-input-29-8ceae7428fda>\u001b[0m in \u001b[0;36m<module>\u001b[1;34m\u001b[0m\n\u001b[0;32m      1\u001b[0m \u001b[0mdata\u001b[0m\u001b[1;33m=\u001b[0m\u001b[1;33m{\u001b[0m\u001b[1;34m\"Apriori\"\u001b[0m\u001b[1;33m:\u001b[0m\u001b[0mapc_times\u001b[0m\u001b[1;33m,\u001b[0m\u001b[1;34m\"Fp-Growth\"\u001b[0m\u001b[1;33m:\u001b[0m\u001b[0mfpc_times\u001b[0m\u001b[1;33m}\u001b[0m\u001b[1;33m\u001b[0m\u001b[1;33m\u001b[0m\u001b[0m\n\u001b[0;32m      2\u001b[0m \u001b[0mindex\u001b[0m \u001b[1;33m=\u001b[0m \u001b[1;33m[\u001b[0m\u001b[1;36m0.6\u001b[0m\u001b[1;33m,\u001b[0m\u001b[1;36m0.65\u001b[0m\u001b[1;33m,\u001b[0m\u001b[1;36m0.70\u001b[0m\u001b[1;33m,\u001b[0m\u001b[1;36m0.75\u001b[0m\u001b[1;33m,\u001b[0m\u001b[1;36m0.80\u001b[0m\u001b[1;33m,\u001b[0m\u001b[1;36m0.85\u001b[0m\u001b[1;33m,\u001b[0m\u001b[1;36m0.90\u001b[0m\u001b[1;33m,\u001b[0m\u001b[1;36m0.95\u001b[0m\u001b[1;33m]\u001b[0m\u001b[1;33m\u001b[0m\u001b[1;33m\u001b[0m\u001b[0m\n\u001b[1;32m----> 3\u001b[1;33m \u001b[0mdataFrame\u001b[0m \u001b[1;33m=\u001b[0m \u001b[0mpd\u001b[0m\u001b[1;33m.\u001b[0m\u001b[0mDataFrame\u001b[0m\u001b[1;33m(\u001b[0m\u001b[0mdata\u001b[0m\u001b[1;33m=\u001b[0m\u001b[0mdata\u001b[0m\u001b[1;33m,\u001b[0m \u001b[0mindex\u001b[0m\u001b[1;33m=\u001b[0m\u001b[0mindex\u001b[0m\u001b[1;33m)\u001b[0m\u001b[1;33m;\u001b[0m\u001b[1;33m\u001b[0m\u001b[1;33m\u001b[0m\u001b[0m\n\u001b[0m\u001b[0;32m      4\u001b[0m \u001b[1;33m\u001b[0m\u001b[0m\n\u001b[0;32m      5\u001b[0m \u001b[1;33m\u001b[0m\u001b[0m\n",
      "\u001b[1;32mF:\\Anaconda3\\lib\\site-packages\\pandas\\core\\frame.py\u001b[0m in \u001b[0;36m__init__\u001b[1;34m(self, data, index, columns, dtype, copy)\u001b[0m\n\u001b[0;32m    527\u001b[0m \u001b[1;33m\u001b[0m\u001b[0m\n\u001b[0;32m    528\u001b[0m         \u001b[1;32melif\u001b[0m \u001b[0misinstance\u001b[0m\u001b[1;33m(\u001b[0m\u001b[0mdata\u001b[0m\u001b[1;33m,\u001b[0m \u001b[0mdict\u001b[0m\u001b[1;33m)\u001b[0m\u001b[1;33m:\u001b[0m\u001b[1;33m\u001b[0m\u001b[1;33m\u001b[0m\u001b[0m\n\u001b[1;32m--> 529\u001b[1;33m             \u001b[0mmgr\u001b[0m \u001b[1;33m=\u001b[0m \u001b[0minit_dict\u001b[0m\u001b[1;33m(\u001b[0m\u001b[0mdata\u001b[0m\u001b[1;33m,\u001b[0m \u001b[0mindex\u001b[0m\u001b[1;33m,\u001b[0m \u001b[0mcolumns\u001b[0m\u001b[1;33m,\u001b[0m \u001b[0mdtype\u001b[0m\u001b[1;33m=\u001b[0m\u001b[0mdtype\u001b[0m\u001b[1;33m)\u001b[0m\u001b[1;33m\u001b[0m\u001b[1;33m\u001b[0m\u001b[0m\n\u001b[0m\u001b[0;32m    530\u001b[0m         \u001b[1;32melif\u001b[0m \u001b[0misinstance\u001b[0m\u001b[1;33m(\u001b[0m\u001b[0mdata\u001b[0m\u001b[1;33m,\u001b[0m \u001b[0mma\u001b[0m\u001b[1;33m.\u001b[0m\u001b[0mMaskedArray\u001b[0m\u001b[1;33m)\u001b[0m\u001b[1;33m:\u001b[0m\u001b[1;33m\u001b[0m\u001b[1;33m\u001b[0m\u001b[0m\n\u001b[0;32m    531\u001b[0m             \u001b[1;32mimport\u001b[0m \u001b[0mnumpy\u001b[0m\u001b[1;33m.\u001b[0m\u001b[0mma\u001b[0m\u001b[1;33m.\u001b[0m\u001b[0mmrecords\u001b[0m \u001b[1;32mas\u001b[0m \u001b[0mmrecords\u001b[0m\u001b[1;33m\u001b[0m\u001b[1;33m\u001b[0m\u001b[0m\n",
      "\u001b[1;32mF:\\Anaconda3\\lib\\site-packages\\pandas\\core\\internals\\construction.py\u001b[0m in \u001b[0;36minit_dict\u001b[1;34m(data, index, columns, dtype)\u001b[0m\n\u001b[0;32m    285\u001b[0m             \u001b[0marr\u001b[0m \u001b[1;32mif\u001b[0m \u001b[1;32mnot\u001b[0m \u001b[0mis_datetime64tz_dtype\u001b[0m\u001b[1;33m(\u001b[0m\u001b[0marr\u001b[0m\u001b[1;33m)\u001b[0m \u001b[1;32melse\u001b[0m \u001b[0marr\u001b[0m\u001b[1;33m.\u001b[0m\u001b[0mcopy\u001b[0m\u001b[1;33m(\u001b[0m\u001b[1;33m)\u001b[0m \u001b[1;32mfor\u001b[0m \u001b[0marr\u001b[0m \u001b[1;32min\u001b[0m \u001b[0marrays\u001b[0m\u001b[1;33m\u001b[0m\u001b[1;33m\u001b[0m\u001b[0m\n\u001b[0;32m    286\u001b[0m         ]\n\u001b[1;32m--> 287\u001b[1;33m     \u001b[1;32mreturn\u001b[0m \u001b[0marrays_to_mgr\u001b[0m\u001b[1;33m(\u001b[0m\u001b[0marrays\u001b[0m\u001b[1;33m,\u001b[0m \u001b[0mdata_names\u001b[0m\u001b[1;33m,\u001b[0m \u001b[0mindex\u001b[0m\u001b[1;33m,\u001b[0m \u001b[0mcolumns\u001b[0m\u001b[1;33m,\u001b[0m \u001b[0mdtype\u001b[0m\u001b[1;33m=\u001b[0m\u001b[0mdtype\u001b[0m\u001b[1;33m)\u001b[0m\u001b[1;33m\u001b[0m\u001b[1;33m\u001b[0m\u001b[0m\n\u001b[0m\u001b[0;32m    288\u001b[0m \u001b[1;33m\u001b[0m\u001b[0m\n\u001b[0;32m    289\u001b[0m \u001b[1;33m\u001b[0m\u001b[0m\n",
      "\u001b[1;32mF:\\Anaconda3\\lib\\site-packages\\pandas\\core\\internals\\construction.py\u001b[0m in \u001b[0;36marrays_to_mgr\u001b[1;34m(arrays, arr_names, index, columns, dtype, verify_integrity)\u001b[0m\n\u001b[0;32m     93\u001b[0m     \u001b[0maxes\u001b[0m \u001b[1;33m=\u001b[0m \u001b[1;33m[\u001b[0m\u001b[0mcolumns\u001b[0m\u001b[1;33m,\u001b[0m \u001b[0mindex\u001b[0m\u001b[1;33m]\u001b[0m\u001b[1;33m\u001b[0m\u001b[1;33m\u001b[0m\u001b[0m\n\u001b[0;32m     94\u001b[0m \u001b[1;33m\u001b[0m\u001b[0m\n\u001b[1;32m---> 95\u001b[1;33m     \u001b[1;32mreturn\u001b[0m \u001b[0mcreate_block_manager_from_arrays\u001b[0m\u001b[1;33m(\u001b[0m\u001b[0marrays\u001b[0m\u001b[1;33m,\u001b[0m \u001b[0marr_names\u001b[0m\u001b[1;33m,\u001b[0m \u001b[0maxes\u001b[0m\u001b[1;33m)\u001b[0m\u001b[1;33m\u001b[0m\u001b[1;33m\u001b[0m\u001b[0m\n\u001b[0m\u001b[0;32m     96\u001b[0m \u001b[1;33m\u001b[0m\u001b[0m\n\u001b[0;32m     97\u001b[0m \u001b[1;33m\u001b[0m\u001b[0m\n",
      "\u001b[1;32mF:\\Anaconda3\\lib\\site-packages\\pandas\\core\\internals\\managers.py\u001b[0m in \u001b[0;36mcreate_block_manager_from_arrays\u001b[1;34m(arrays, names, axes)\u001b[0m\n\u001b[0;32m   1704\u001b[0m         \u001b[1;32mreturn\u001b[0m \u001b[0mmgr\u001b[0m\u001b[1;33m\u001b[0m\u001b[1;33m\u001b[0m\u001b[0m\n\u001b[0;32m   1705\u001b[0m     \u001b[1;32mexcept\u001b[0m \u001b[0mValueError\u001b[0m \u001b[1;32mas\u001b[0m \u001b[0me\u001b[0m\u001b[1;33m:\u001b[0m\u001b[1;33m\u001b[0m\u001b[1;33m\u001b[0m\u001b[0m\n\u001b[1;32m-> 1706\u001b[1;33m         \u001b[1;32mraise\u001b[0m \u001b[0mconstruction_error\u001b[0m\u001b[1;33m(\u001b[0m\u001b[0mlen\u001b[0m\u001b[1;33m(\u001b[0m\u001b[0marrays\u001b[0m\u001b[1;33m)\u001b[0m\u001b[1;33m,\u001b[0m \u001b[0marrays\u001b[0m\u001b[1;33m[\u001b[0m\u001b[1;36m0\u001b[0m\u001b[1;33m]\u001b[0m\u001b[1;33m.\u001b[0m\u001b[0mshape\u001b[0m\u001b[1;33m,\u001b[0m \u001b[0maxes\u001b[0m\u001b[1;33m,\u001b[0m \u001b[0me\u001b[0m\u001b[1;33m)\u001b[0m\u001b[1;33m\u001b[0m\u001b[1;33m\u001b[0m\u001b[0m\n\u001b[0m\u001b[0;32m   1707\u001b[0m \u001b[1;33m\u001b[0m\u001b[0m\n\u001b[0;32m   1708\u001b[0m \u001b[1;33m\u001b[0m\u001b[0m\n",
      "\u001b[1;31mValueError\u001b[0m: Shape of passed values is (3, 2), indices imply (8, 2)"
     ]
    }
   ],
   "source": [
    "data={\"Apriori\":apc_times,\"Fp-Growth\":fpc_times}\n",
    "index = [0.6,0.65,0.70,0.75,0.80,0.85,0.90,0.95]\n",
    "dataFrame = pd.DataFrame(data=data, index=index);\n",
    "\n",
    " \n",
    "my_colors = ['lightseagreen','sandybrown']\n",
    "# Draw a vertical bar chart\n",
    "\n",
    "dataFrame.plot.bar(rot=15,color=my_colors);\n",
    "plt.legend(loc='upper center', bbox_to_anchor=(0.5, 1.2))\n",
    "plt.ylabel(\"Times Taken to Run The Algorithms\")\n",
    "plt.xlabel(\"Thresholds\")\n",
    "plt.savefig('Chess.pdf',bbox_inches='tight')\n",
    "\n",
    "plt.show(block=True);"
   ]
  },
  {
   "cell_type": "code",
   "execution_count": null,
   "id": "cc33bfc4",
   "metadata": {},
   "outputs": [],
   "source": []
  }
 ],
 "metadata": {
  "kernelspec": {
   "display_name": "Python 3",
   "language": "python",
   "name": "python3"
  },
  "language_info": {
   "codemirror_mode": {
    "name": "ipython",
    "version": 3
   },
   "file_extension": ".py",
   "mimetype": "text/x-python",
   "name": "python",
   "nbconvert_exporter": "python",
   "pygments_lexer": "ipython3",
   "version": "3.8.8"
  }
 },
 "nbformat": 4,
 "nbformat_minor": 5
}
